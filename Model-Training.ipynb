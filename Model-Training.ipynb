{
 "cells": [
  {
   "cell_type": "markdown",
   "metadata": {},
   "source": [
    "# Introduction\n",
    "\n",
    "This notebook is all about training a YOLO model to detect handwritten characters from the synthetically generated training dataset."
   ]
  },
  {
   "cell_type": "code",
   "execution_count": 1,
   "metadata": {},
   "outputs": [
    {
     "name": "stdout",
     "output_type": "stream",
     "text": [
      "Requirement already satisfied: numpy in /home/tejashah88/extra-software/anaconda3/envs/info2braille/lib/python3.6/site-packages (1.18.1)\n",
      "Requirement already satisfied: matplotlib in /home/tejashah88/extra-software/anaconda3/envs/info2braille/lib/python3.6/site-packages (2.2.4)\n",
      "Requirement already satisfied: opencv-python in /home/tejashah88/extra-software/anaconda3/envs/info2braille/lib/python3.6/site-packages (4.2.0.32)\n",
      "Requirement already satisfied: seaborn in /home/tejashah88/extra-software/anaconda3/envs/info2braille/lib/python3.6/site-packages (0.9.0)\n",
      "Requirement already satisfied: pandas in /home/tejashah88/extra-software/anaconda3/envs/info2braille/lib/python3.6/site-packages (0.25.3)\n",
      "Requirement already satisfied: tqdm in /home/tejashah88/extra-software/anaconda3/envs/info2braille/lib/python3.6/site-packages (4.41.1)\n",
      "Requirement already satisfied: keras in /home/tejashah88/extra-software/anaconda3/envs/info2braille/lib/python3.6/site-packages (2.2.4)\n",
      "Requirement already satisfied: tensorflow in /home/tejashah88/extra-software/anaconda3/envs/info2braille/lib/python3.6/site-packages (1.15.0)\n",
      "Requirement already satisfied: python-dateutil>=2.1 in /home/tejashah88/extra-software/anaconda3/envs/info2braille/lib/python3.6/site-packages (from matplotlib) (2.8.1)\n",
      "Requirement already satisfied: cycler>=0.10 in /home/tejashah88/extra-software/anaconda3/envs/info2braille/lib/python3.6/site-packages (from matplotlib) (0.10.0)\n",
      "Requirement already satisfied: kiwisolver>=1.0.1 in /home/tejashah88/extra-software/anaconda3/envs/info2braille/lib/python3.6/site-packages (from matplotlib) (1.1.0)\n",
      "Requirement already satisfied: pyparsing!=2.0.4,!=2.1.2,!=2.1.6,>=2.0.1 in /home/tejashah88/extra-software/anaconda3/envs/info2braille/lib/python3.6/site-packages (from matplotlib) (2.4.6)\n",
      "Requirement already satisfied: six>=1.10 in /home/tejashah88/extra-software/anaconda3/envs/info2braille/lib/python3.6/site-packages (from matplotlib) (1.13.0)\n",
      "Requirement already satisfied: pytz in /home/tejashah88/.local/lib/python3.6/site-packages (from matplotlib) (2019.2)\n",
      "Requirement already satisfied: scipy>=0.14.0 in /home/tejashah88/extra-software/anaconda3/envs/info2braille/lib/python3.6/site-packages (from seaborn) (1.4.1)\n",
      "Requirement already satisfied: keras-preprocessing>=1.0.5 in /home/tejashah88/.local/lib/python3.6/site-packages (from keras) (1.1.0)\n",
      "Requirement already satisfied: keras-applications>=1.0.6 in /home/tejashah88/.local/lib/python3.6/site-packages (from keras) (1.0.8)\n",
      "Requirement already satisfied: h5py in /home/tejashah88/.local/lib/python3.6/site-packages (from keras) (2.9.0)\n",
      "Requirement already satisfied: pyyaml in /home/tejashah88/extra-software/anaconda3/envs/info2braille/lib/python3.6/site-packages (from keras) (5.3)\n",
      "Requirement already satisfied: grpcio>=1.8.6 in /home/tejashah88/.local/lib/python3.6/site-packages (from tensorflow) (1.22.0)\n",
      "Requirement already satisfied: termcolor>=1.1.0 in /home/tejashah88/.local/lib/python3.6/site-packages (from tensorflow) (1.1.0)\n",
      "Requirement already satisfied: absl-py>=0.7.0 in /home/tejashah88/.local/lib/python3.6/site-packages (from tensorflow) (0.7.1)\n",
      "Requirement already satisfied: opt-einsum>=2.3.2 in /home/tejashah88/extra-software/anaconda3/envs/info2braille/lib/python3.6/site-packages (from tensorflow) (3.1.0)\n",
      "Requirement already satisfied: protobuf>=3.6.1 in /home/tejashah88/.local/lib/python3.6/site-packages (from tensorflow) (3.9.1)\n",
      "Requirement already satisfied: gast==0.2.2 in /home/tejashah88/.local/lib/python3.6/site-packages (from tensorflow) (0.2.2)\n",
      "Requirement already satisfied: google-pasta>=0.1.6 in /home/tejashah88/.local/lib/python3.6/site-packages (from tensorflow) (0.1.7)\n",
      "Requirement already satisfied: tensorboard<1.16.0,>=1.15.0 in /home/tejashah88/extra-software/anaconda3/envs/info2braille/lib/python3.6/site-packages (from tensorflow) (1.15.0)\n",
      "Requirement already satisfied: astor>=0.6.0 in /home/tejashah88/.local/lib/python3.6/site-packages (from tensorflow) (0.8.0)\n",
      "Requirement already satisfied: tensorflow-estimator==1.15.1 in /home/tejashah88/extra-software/anaconda3/envs/info2braille/lib/python3.6/site-packages (from tensorflow) (1.15.1)\n",
      "Requirement already satisfied: wrapt>=1.11.1 in /home/tejashah88/.local/lib/python3.6/site-packages (from tensorflow) (1.11.2)\n",
      "Requirement already satisfied: wheel>=0.26 in /home/tejashah88/extra-software/anaconda3/envs/info2braille/lib/python3.6/site-packages (from tensorflow) (0.33.6)\n",
      "Requirement already satisfied: setuptools in /home/tejashah88/.local/lib/python3.6/site-packages (from kiwisolver>=1.0.1->matplotlib) (41.1.0)\n",
      "Requirement already satisfied: markdown>=2.6.8 in /home/tejashah88/.local/lib/python3.6/site-packages (from tensorboard<1.16.0,>=1.15.0->tensorflow) (3.1.1)\n",
      "Requirement already satisfied: werkzeug>=0.11.15 in /home/tejashah88/.local/lib/python3.6/site-packages (from tensorboard<1.16.0,>=1.15.0->tensorflow) (0.15.5)\n"
     ]
    }
   ],
   "source": [
    "# You'll need to install the following libraries to run this notebook\n",
    "!pip install numpy matplotlib opencv-python seaborn pandas tqdm keras tensorflow"
   ]
  },
  {
   "cell_type": "code",
   "execution_count": 2,
   "metadata": {},
   "outputs": [],
   "source": [
    "# Setup all imports here\n",
    "from collections import Counter\n",
    "import random\n",
    "from time import time\n",
    "import os\n",
    "from glob import glob\n",
    "\n",
    "import cv2\n",
    "import numpy as np\n",
    "import matplotlib.pyplot as plt\n",
    "import seaborn as sns\n",
    "import pandas as pd\n",
    "\n",
    "from tqdm.notebook import trange, tqdm_notebook"
   ]
  },
  {
   "cell_type": "code",
   "execution_count": 3,
   "metadata": {},
   "outputs": [],
   "source": [
    "# Show all matplotlib plots without always calling plt.show()\n",
    "%matplotlib inline"
   ]
  },
  {
   "cell_type": "code",
   "execution_count": 4,
   "metadata": {},
   "outputs": [],
   "source": [
    "# Increase the size of the matplotlib figures\n",
    "import matplotlib as mpl\n",
    "mpl.rcParams['figure.figsize'] = (12, 12)"
   ]
  },
  {
   "cell_type": "markdown",
   "metadata": {},
   "source": [
    "# Training the model\n",
    "\n",
    "YOLO stands for You Only Look Once. It's a relatively novel neural network architecture that allows pretty fast inferencing while keeping a respectible amount of accuracy.\n",
    "\n",
    "* Original YOLO Paper: https://arxiv.org/pdf/1506.02640.pdf\n",
    "* YOLO v3 Paper: https://pjreddie.com/media/files/papers/YOLOv3.pdf"
   ]
  },
  {
   "cell_type": "code",
   "execution_count": 6,
   "metadata": {},
   "outputs": [
    {
     "name": "stdout",
     "output_type": "stream",
     "text": [
      "Cloning into 'yolov3-tf'...\n",
      "remote: Enumerating objects: 222, done.\u001b[K\n",
      "remote: Total 222 (delta 0), reused 0 (delta 0), pack-reused 222\u001b[K\n",
      "Receiving objects: 100% (222/222), 3.16 MiB | 3.46 MiB/s, done.\n",
      "Resolving deltas: 100% (127/127), done.\n",
      "python: can't open file 'setup.py': [Errno 2] No such file or directory\n"
     ]
    }
   ],
   "source": [
    "# Install the Keras version of YOLO from 'Borda'\n",
    "!git clone https://github.com/wizyoung/YOLOv3_TensorFlow.git yolov3-tf"
   ]
  },
  {
   "cell_type": "markdown",
   "metadata": {},
   "source": [
    "## Testing YOLO with COCO"
   ]
  },
  {
   "cell_type": "code",
   "execution_count": 15,
   "metadata": {},
   "outputs": [
    {
     "name": "stdout",
     "output_type": "stream",
     "text": [
      "eights/yolov3.weigh  11%[=>                  ]  27.55M  5.17MB/s    eta 58s    ^C\n"
     ]
    }
   ],
   "source": [
    "# Download the YOLO v3 weights file\n",
    "!wget https://pjreddie.com/media/files/yolov3.weights \\\n",
    "    --output-document='./yolov3-tf/data/darknet_weights/yolov3.weights' \\\n",
    "    --quiet --show-progress"
   ]
  },
  {
   "cell_type": "code",
   "execution_count": 18,
   "metadata": {},
   "outputs": [
    {
     "name": "stdout",
     "output_type": "stream",
     "text": [
      "WARNING: Logging before flag parsing goes to stderr.\n",
      "W0212 15:52:39.867549 139866816436032 lazy_loader.py:50] \n",
      "The TensorFlow contrib module will not be included in TensorFlow 2.0.\n",
      "For more information, please see:\n",
      "  * https://github.com/tensorflow/community/blob/master/rfcs/20180907-contrib-sunset.md\n",
      "  * https://github.com/tensorflow/addons\n",
      "  * https://github.com/tensorflow/io (for I/O related ops)\n",
      "If you depend on functionality not listed there, please file an issue.\n",
      "\n",
      "W0212 15:52:40.190120 139866816436032 module_wrapper.py:139] From convert_weight.py:22: The name tf.Session is deprecated. Please use tf.compat.v1.Session instead.\n",
      "\n",
      "2020-02-12 15:52:40.195695: W tensorflow/stream_executor/platform/default/dso_loader.cc:55] Could not load dynamic library 'libcuda.so.1'; dlerror: libcuda.so.1: cannot open shared object file: No such file or directory; LD_LIBRARY_PATH: :/home/tejashah88/extra-software/muse-sdk\n",
      "2020-02-12 15:52:40.196031: E tensorflow/stream_executor/cuda/cuda_driver.cc:318] failed call to cuInit: UNKNOWN ERROR (303)\n",
      "2020-02-12 15:52:40.196074: I tensorflow/stream_executor/cuda/cuda_diagnostics.cc:156] kernel driver does not appear to be running on this host (Sajet-PC): /proc/driver/nvidia/version does not exist\n",
      "2020-02-12 15:52:40.196602: I tensorflow/core/platform/cpu_feature_guard.cc:142] Your CPU supports instructions that this TensorFlow binary was not compiled to use: AVX2 FMA\n",
      "2020-02-12 15:52:40.230433: I tensorflow/core/platform/profile_utils/cpu_utils.cc:94] CPU Frequency: 2592000000 Hz\n",
      "2020-02-12 15:52:40.231217: I tensorflow/compiler/xla/service/service.cc:168] XLA service 0x560e57aee100 initialized for platform Host (this does not guarantee that XLA will be used). Devices:\n",
      "2020-02-12 15:52:40.231261: I tensorflow/compiler/xla/service/service.cc:176]   StreamExecutor device (0): Host, Default Version\n",
      "W0212 15:52:40.234817 139866816436032 module_wrapper.py:139] From convert_weight.py:23: The name tf.placeholder is deprecated. Please use tf.compat.v1.placeholder instead.\n",
      "\n",
      "W0212 15:52:40.238042 139866816436032 module_wrapper.py:139] From convert_weight.py:25: The name tf.variable_scope is deprecated. Please use tf.compat.v1.variable_scope instead.\n",
      "\n",
      "W0212 15:52:40.245447 139866816436032 deprecation.py:323] From /home/tejashah88/extra-software/anaconda3/envs/info2braille/lib/python3.6/site-packages/tensorflow_core/contrib/layers/python/layers/layers.py:1057: Layer.apply (from tensorflow.python.keras.engine.base_layer) is deprecated and will be removed in a future version.\n",
      "Instructions for updating:\n",
      "Please use `layer.__call__` method instead.\n",
      "W0212 15:52:41.930032 139866816436032 module_wrapper.py:139] From /home/tejashah88/projects/info2braille/notebooks/yolov3-tf/utils/layer_utils.py:86: The name tf.image.resize_nearest_neighbor is deprecated. Please use tf.compat.v1.image.resize_nearest_neighbor instead.\n",
      "\n",
      "W0212 15:52:42.314827 139866816436032 module_wrapper.py:139] From convert_weight.py:28: The name tf.train.Saver is deprecated. Please use tf.compat.v1.train.Saver instead.\n",
      "\n",
      "W0212 15:52:42.315027 139866816436032 module_wrapper.py:139] From convert_weight.py:28: The name tf.global_variables is deprecated. Please use tf.compat.v1.global_variables instead.\n",
      "\n",
      "W0212 15:52:43.032346 139866816436032 module_wrapper.py:139] From /home/tejashah88/projects/info2braille/notebooks/yolov3-tf/utils/misc_utils.py:99: The name tf.assign is deprecated. Please use tf.compat.v1.assign instead.\n",
      "\n",
      "TensorFlow model checkpoint has been saved to ./data/darknet_weights/yolov3.ckpt\n"
     ]
    }
   ],
   "source": [
    "# Convert the COCO-pretained model weights\n",
    "!cd yolov3-tf && python convert_weight.py"
   ]
  },
  {
   "cell_type": "code",
   "execution_count": 21,
   "metadata": {},
   "outputs": [
    {
     "name": "stdout",
     "output_type": "stream",
     "text": [
      "\u001b[0m\u001b[01;35mdog.jpg\u001b[0m  \u001b[01;35mkite.jpg\u001b[0m  \u001b[01;35mmessi.jpg\u001b[0m  \u001b[01;34mresults\u001b[0m/\r\n"
     ]
    }
   ],
   "source": [
    "!ls yolov3-tf/data/demo_data"
   ]
  },
  {
   "cell_type": "code",
   "execution_count": 26,
   "metadata": {},
   "outputs": [
    {
     "name": "stdout",
     "output_type": "stream",
     "text": [
      "WARNING: Logging before flag parsing goes to stderr.\n",
      "W0212 23:46:18.800108 140642383140672 lazy_loader.py:50] \n",
      "The TensorFlow contrib module will not be included in TensorFlow 2.0.\n",
      "For more information, please see:\n",
      "  * https://github.com/tensorflow/community/blob/master/rfcs/20180907-contrib-sunset.md\n",
      "  * https://github.com/tensorflow/addons\n",
      "  * https://github.com/tensorflow/io (for I/O related ops)\n",
      "If you depend on functionality not listed there, please file an issue.\n",
      "\n",
      "W0212 23:46:19.182229 140642383140672 module_wrapper.py:139] From test_single_image.py:48: The name tf.Session is deprecated. Please use tf.compat.v1.Session instead.\n",
      "\n",
      "2020-02-12 23:46:19.183091: W tensorflow/stream_executor/platform/default/dso_loader.cc:55] Could not load dynamic library 'libcuda.so.1'; dlerror: libcuda.so.1: cannot open shared object file: No such file or directory; LD_LIBRARY_PATH: :/home/tejashah88/extra-software/muse-sdk\n",
      "2020-02-12 23:46:19.183110: E tensorflow/stream_executor/cuda/cuda_driver.cc:318] failed call to cuInit: UNKNOWN ERROR (303)\n",
      "2020-02-12 23:46:19.183138: I tensorflow/stream_executor/cuda/cuda_diagnostics.cc:156] kernel driver does not appear to be running on this host (Sajet-PC): /proc/driver/nvidia/version does not exist\n",
      "2020-02-12 23:46:19.183375: I tensorflow/core/platform/cpu_feature_guard.cc:142] Your CPU supports instructions that this TensorFlow binary was not compiled to use: AVX2 FMA\n",
      "2020-02-12 23:46:19.188625: I tensorflow/core/platform/profile_utils/cpu_utils.cc:94] CPU Frequency: 2592000000 Hz\n",
      "2020-02-12 23:46:19.188906: I tensorflow/compiler/xla/service/service.cc:168] XLA service 0x55e0e6437400 initialized for platform Host (this does not guarantee that XLA will be used). Devices:\n",
      "2020-02-12 23:46:19.188922: I tensorflow/compiler/xla/service/service.cc:176]   StreamExecutor device (0): Host, Default Version\n",
      "W0212 23:46:19.190450 140642383140672 module_wrapper.py:139] From test_single_image.py:49: The name tf.placeholder is deprecated. Please use tf.compat.v1.placeholder instead.\n",
      "\n",
      "W0212 23:46:19.191465 140642383140672 module_wrapper.py:139] From test_single_image.py:51: The name tf.variable_scope is deprecated. Please use tf.compat.v1.variable_scope instead.\n",
      "\n",
      "W0212 23:46:19.196255 140642383140672 deprecation.py:323] From /home/tejashah88/extra-software/anaconda3/envs/info2braille/lib/python3.6/site-packages/tensorflow_core/contrib/layers/python/layers/layers.py:1057: Layer.apply (from tensorflow.python.keras.engine.base_layer) is deprecated and will be removed in a future version.\n",
      "Instructions for updating:\n",
      "Please use `layer.__call__` method instead.\n",
      "W0212 23:46:20.962795 140642383140672 module_wrapper.py:139] From /home/tejashah88/projects/info2braille/notebooks/yolov3-tf/utils/layer_utils.py:86: The name tf.image.resize_nearest_neighbor is deprecated. Please use tf.compat.v1.image.resize_nearest_neighbor instead.\n",
      "\n",
      "W0212 23:46:21.551803 140642383140672 deprecation.py:323] From /home/tejashah88/extra-software/anaconda3/envs/info2braille/lib/python3.6/site-packages/tensorflow_core/python/ops/array_ops.py:1475: where (from tensorflow.python.ops.array_ops) is deprecated and will be removed in a future version.\n",
      "Instructions for updating:\n",
      "Use tf.where in 2.0, which has the same broadcast rule as np.where\n",
      "W0212 23:46:24.978071 140642383140672 module_wrapper.py:139] From test_single_image.py:59: The name tf.train.Saver is deprecated. Please use tf.compat.v1.train.Saver instead.\n",
      "\n",
      "box coords:\n",
      "[[ 117.12685  612.145    166.60078  760.5764 ]\n",
      " [  83.21348  512.0255   107.76681  563.6164 ]\n",
      " [ 210.31232  689.2163   273.72913  860.3114 ]\n",
      " [ 349.05475  486.85724  358.065    504.95807]\n",
      " [ 522.7087   504.93283  540.87054  531.239  ]\n",
      " [  27.5779   517.5932    49.33157  556.90045]\n",
      " [ 178.73866  545.88617  193.1115   570.6796 ]\n",
      " [ 541.54047  514.9689   557.8589   533.18146]\n",
      " [1207.8448   452.32404 1216.9355   462.22382]\n",
      " [ 595.18024   83.19945  670.66833  154.1173 ]\n",
      " [ 280.40204  235.45886  306.7987   285.03674]\n",
      " [ 307.65317  378.52814  326.13254  396.65802]\n",
      " [ 577.1942   347.16135  600.68085  371.47406]\n",
      " [ 470.55368  340.12164  486.5083   360.20016]\n",
      " [1084.4186   395.68182 1104.0433   423.0676 ]\n",
      " [ 763.39105  381.7161   772.5615   390.27216]]\n",
      "******************************\n",
      "scores:\n",
      "[0.9907994  0.99012756 0.9763234  0.96553904 0.948332   0.9447118\n",
      " 0.8117233  0.43394363 0.32259384 0.9809098  0.897134   0.8384253\n",
      " 0.8125741  0.8100779  0.7481193  0.57585835]\n",
      "******************************\n",
      "labels:\n",
      "[ 0  0  0  0  0  0  0  0  0 33 33 33 33 33 33 33]\n",
      "^C\n"
     ]
    }
   ],
   "source": [
    "# NOTE: Don't close the GUI window by clicking the 'X'; press any key on the keyboard instead\n",
    "# Otherwise this cell will keep on running and you'll have to interrupt the kernel\n",
    "!cd yolov3-tf && python test_single_image.py ./data/demo_data/kite.jpg"
   ]
  },
  {
   "cell_type": "markdown",
   "metadata": {},
   "source": [
    "## Training a custom model"
   ]
  },
  {
   "cell_type": "code",
   "execution_count": null,
   "metadata": {},
   "outputs": [],
   "source": []
  }
 ],
 "metadata": {
  "kernelspec": {
   "display_name": "Python 3",
   "language": "python",
   "name": "python3"
  },
  "language_info": {
   "codemirror_mode": {
    "name": "ipython",
    "version": 3
   },
   "file_extension": ".py",
   "mimetype": "text/x-python",
   "name": "python",
   "nbconvert_exporter": "python",
   "pygments_lexer": "ipython3",
   "version": "3.6.10"
  }
 },
 "nbformat": 4,
 "nbformat_minor": 2
}
